{
 "cells": [
  {
   "attachments": {},
   "cell_type": "markdown",
   "metadata": {},
   "source": [
    "I. Reading in Data\n",
    "\n",
    "Read in two .wav audio files to compare. Both are the original recorded version of \"Strawberry Fields Forever\" by the Beatles, one mastered in 2009, one in 2015."
   ]
  },
  {
   "cell_type": "code",
   "execution_count": 6,
   "metadata": {},
   "outputs": [],
   "source": [
    "#import the wave and numpy modules\n",
    "\n",
    "import wave\n",
    "import numpy as np"
   ]
  },
  {
   "cell_type": "code",
   "execution_count": 7,
   "metadata": {},
   "outputs": [],
   "source": [
    "# Open the wav file\n",
    "wav_2009 = wave.open(\"2009SFF.wav\", 'r')\n",
    "wav_2015 = wave.open(\"2015SFF.wav\", 'r')"
   ]
  },
  {
   "attachments": {},
   "cell_type": "markdown",
   "metadata": {},
   "source": [
    "II. Manipulate Data\n",
    "\n",
    "1. Get amplitude readings from the wav files to compare. The amplitude shows how loud the track is. The higher the absolute value of the amplitude, the louder the track. We will get the amplitude as an array. "
   ]
  },
  {
   "cell_type": "code",
   "execution_count": 8,
   "metadata": {},
   "outputs": [
    {
     "name": "stdout",
     "output_type": "stream",
     "text": [
      "[0. 0. 0. ... 0. 0. 0.]\n"
     ]
    }
   ],
   "source": [
    "#First for the 2009 version:\n",
    "\n",
    "# Open the wav file\n",
    "wav_file = wave.open(\"2009SFF.wav\", 'r')\n",
    "\n",
    "# Get the number of frames\n",
    "n_frames = wav_file.getnframes()\n",
    "\n",
    "# Read the frames and convert to a numpy array\n",
    "frames = wav_file.readframes(n_frames)\n",
    "frames = np.frombuffer(frames, dtype=np.int16)\n",
    "\n",
    "# Get the frame rate\n",
    "frame_rate = wav_file.getframerate()\n",
    "\n",
    "# Close the wav file\n",
    "wav_file.close()\n",
    "\n",
    "# Normalize the amplitude data\n",
    "amplitude_2009 = frames / (2.0 ** 15)\n",
    "\n",
    "# Print the amplitude data\n",
    "print(amplitude_2009)"
   ]
  },
  {
   "cell_type": "code",
   "execution_count": 9,
   "metadata": {},
   "outputs": [
    {
     "name": "stdout",
     "output_type": "stream",
     "text": [
      "[ 0.00000000e+00  3.05175781e-05 -3.05175781e-05 ...  0.00000000e+00\n",
      "  0.00000000e+00  0.00000000e+00]\n"
     ]
    }
   ],
   "source": [
    "#Now for the 2015 version:\n",
    "\n",
    "# Open the wav file\n",
    "wav_file = wave.open(\"2015SFF.wav\", 'r')\n",
    "\n",
    "# Get the number of frames\n",
    "n_frames = wav_file.getnframes()\n",
    "\n",
    "# Read the frames and convert to a numpy array\n",
    "frames = wav_file.readframes(n_frames)\n",
    "frames = np.frombuffer(frames, dtype=np.int16)\n",
    "\n",
    "# Get the frame rate\n",
    "frame_rate = wav_file.getframerate()\n",
    "\n",
    "# Close the wav file\n",
    "wav_file.close()\n",
    "\n",
    "# Normalize the amplitude data\n",
    "amplitude_2015 = frames / (2.0 ** 15)\n",
    "\n",
    "# Print the amplitude data\n",
    "print(amplitude_2015)"
   ]
  },
  {
   "attachments": {},
   "cell_type": "markdown",
   "metadata": {},
   "source": [
    "2. Zeros in the array indicate silence, which you typically get at the beginning and end of a track. Let's make an extra version of each array with the silence taken out, so it doesn't distort our calculations later on."
   ]
  },
  {
   "cell_type": "code",
   "execution_count": 10,
   "metadata": {},
   "outputs": [
    {
     "name": "stdout",
     "output_type": "stream",
     "text": [
      "[-3.05175781e-05 -3.05175781e-05 -3.05175781e-05 ...  3.05175781e-05\n",
      "  0.00000000e+00  3.05175781e-05]\n"
     ]
    }
   ],
   "source": [
    "#Make a version of the 2009 master with the silences (zeros) taken out\n",
    "\n",
    "amplitude_2009_No_Silence = np. trim_zeros(amplitude_2009, trim='fb')\n",
    "\n",
    "print(amplitude_2009_No_Silence)"
   ]
  },
  {
   "cell_type": "code",
   "execution_count": 11,
   "metadata": {},
   "outputs": [
    {
     "name": "stdout",
     "output_type": "stream",
     "text": [
      "[ 3.05175781e-05 -3.05175781e-05 -3.05175781e-05 ... -3.05175781e-05\n",
      "  0.00000000e+00 -3.05175781e-05]\n"
     ]
    }
   ],
   "source": [
    "#Make a version of the 2015 master with the silences (zeros) taken out\n",
    "\n",
    "amplitude_2015_No_Silence = np. trim_zeros(amplitude_2015, trim='fb')\n",
    "\n",
    "print(amplitude_2015_No_Silence)"
   ]
  },
  {
   "attachments": {},
   "cell_type": "markdown",
   "metadata": {},
   "source": [
    "3. Let's make versions of these arrays with the absolute values of the amplitude readings. If we were to leave the negative numbers in, they would end up cancelling out the positive amplitudes. "
   ]
  },
  {
   "cell_type": "code",
   "execution_count": 12,
   "metadata": {},
   "outputs": [
    {
     "name": "stdout",
     "output_type": "stream",
     "text": [
      "[3.05175781e-05 3.05175781e-05 3.05175781e-05 ... 3.05175781e-05\n",
      " 0.00000000e+00 3.05175781e-05]\n"
     ]
    }
   ],
   "source": [
    "#First the 2009 version\n",
    "\n",
    "amplitude_2009_No_Silence_Abs = abs(amplitude_2009_No_Silence)\n",
    "print(amplitude_2009_No_Silence_Abs)"
   ]
  },
  {
   "cell_type": "code",
   "execution_count": 13,
   "metadata": {},
   "outputs": [
    {
     "name": "stdout",
     "output_type": "stream",
     "text": [
      "[3.05175781e-05 3.05175781e-05 3.05175781e-05 ... 3.05175781e-05\n",
      " 0.00000000e+00 3.05175781e-05]\n"
     ]
    }
   ],
   "source": [
    "#Now the 2015 version\n",
    "\n",
    "amplitude_2015_No_Silence_Abs = abs(amplitude_2015_No_Silence)\n",
    "print(amplitude_2015_No_Silence_Abs)"
   ]
  },
  {
   "attachments": {},
   "cell_type": "markdown",
   "metadata": {},
   "source": [
    "III. Analyze the Data\n",
    "\n",
    "Let's do some comparison of the 2009 and 2015 versions. \n",
    "\n",
    "1. First, let's compare the length of each track in samples."
   ]
  },
  {
   "cell_type": "code",
   "execution_count": 14,
   "metadata": {},
   "outputs": [
    {
     "name": "stdout",
     "output_type": "stream",
     "text": [
      "The 2009 version is  21867720 samples long.\n",
      "The 2015 version is  21733656 samples long.\n"
     ]
    }
   ],
   "source": [
    "print('The 2009 version is ', len(amplitude_2009), 'samples long.')\n",
    "print('The 2015 version is ', len(amplitude_2015), 'samples long.')"
   ]
  },
  {
   "cell_type": "code",
   "execution_count": 15,
   "metadata": {},
   "outputs": [
    {
     "data": {
      "text/plain": [
       "134064"
      ]
     },
     "execution_count": 15,
     "metadata": {},
     "output_type": "execute_result"
    }
   ],
   "source": [
    "len(amplitude_2009) - len(amplitude_2015)"
   ]
  },
  {
   "attachments": {},
   "cell_type": "markdown",
   "metadata": {},
   "source": [
    "Interesting. It looks like the 2009 version is 134064 samples longer than the 2015 version. A .wav file has 44.1 thousand (44,100) samples per second. So this equates to just over 3 seconds of sound. That's quite a bit of difference."
   ]
  },
  {
   "attachments": {},
   "cell_type": "markdown",
   "metadata": {},
   "source": [
    "2. I wonder how much of the difference is just from the silence they put at the beginning and end of the track. Let's see what happens if we compare the lengths after we take out the zero values."
   ]
  },
  {
   "cell_type": "code",
   "execution_count": 16,
   "metadata": {},
   "outputs": [
    {
     "name": "stdout",
     "output_type": "stream",
     "text": [
      "The 2009 version is  21754602 samples long once you take out the silence.\n",
      "The 2015 version is  21715646 samples long once you take out the silence.\n",
      "The difference is now  38956 samples.\n"
     ]
    }
   ],
   "source": [
    "print('The 2009 version is ', len(amplitude_2009_No_Silence), 'samples long once you take out the silence.')\n",
    "print('The 2015 version is ', len(amplitude_2015_No_Silence), 'samples long once you take out the silence.')\n",
    "\n",
    "difference = len(amplitude_2009_No_Silence) - len(amplitude_2015_No_Silence)\n",
    "\n",
    "print('The difference is now ', difference, 'samples.')\n"
   ]
  },
  {
   "attachments": {},
   "cell_type": "markdown",
   "metadata": {},
   "source": [
    "There still is a difference in lenghth, but it's less than 1 second now:"
   ]
  },
  {
   "cell_type": "code",
   "execution_count": 17,
   "metadata": {},
   "outputs": [
    {
     "name": "stdout",
     "output_type": "stream",
     "text": [
      "38956 equals  0.8833560090702948 seconds.\n"
     ]
    }
   ],
   "source": [
    "print(difference, 'equals ', difference / 44100, 'seconds.')"
   ]
  },
  {
   "attachments": {},
   "cell_type": "markdown",
   "metadata": {},
   "source": [
    "3. Now lets look at the overall loudness levels of the two versions by taking the mean of their amplitude absolute values."
   ]
  },
  {
   "cell_type": "code",
   "execution_count": 18,
   "metadata": {},
   "outputs": [
    {
     "data": {
      "text/plain": [
       "0.08676794938938738"
      ]
     },
     "execution_count": 18,
     "metadata": {},
     "output_type": "execute_result"
    }
   ],
   "source": [
    "#Get mean of value for the 2009 version (mean of amplitude for whole track)\n",
    "\n",
    "np.mean(amplitude_2009_No_Silence_Abs)"
   ]
  },
  {
   "cell_type": "code",
   "execution_count": 19,
   "metadata": {},
   "outputs": [
    {
     "data": {
      "text/plain": [
       "0.11751514274977157"
      ]
     },
     "execution_count": 19,
     "metadata": {},
     "output_type": "execute_result"
    }
   ],
   "source": [
    "#Get mean of value for the 2015 version (mean of amplitude for whole track)\n",
    "\n",
    "np.mean(amplitude_2015_No_Silence_Abs)"
   ]
  },
  {
   "attachments": {},
   "cell_type": "markdown",
   "metadata": {},
   "source": [
    "As you might expect seeing as the trend is to always make louder and \n",
    "louder tracks, the newer version (2015) clocks in with a higher mean amplitude value.\n",
    "\n",
    "Let's find the difference:"
   ]
  },
  {
   "cell_type": "code",
   "execution_count": 20,
   "metadata": {},
   "outputs": [
    {
     "data": {
      "text/plain": [
       "0.030747193360384187"
      ]
     },
     "execution_count": 20,
     "metadata": {},
     "output_type": "execute_result"
    }
   ],
   "source": [
    "np.mean(amplitude_2015_No_Silence_Abs) - np.mean(amplitude_2009_No_Silence_Abs)"
   ]
  },
  {
   "attachments": {},
   "cell_type": "markdown",
   "metadata": {},
   "source": [
    "The mean of the 2015 version is over 0.03 larger than for the 2009 version. To understand how significant a difference 0.03 is,\n",
    "let's understand the scale we are measures on. We know the lowest amplitude reading is 0. The highest it can go is 1.0:"
   ]
  },
  {
   "cell_type": "code",
   "execution_count": 21,
   "metadata": {},
   "outputs": [
    {
     "name": "stdout",
     "output_type": "stream",
     "text": [
      "Largest element is: 0.990966796875\n"
     ]
    }
   ],
   "source": [
    "#Find the highest value in the 2009 version:\n",
    "\n",
    "# sorting the list\n",
    "amplitude_2009_No_Silence_Abs.sort()\n",
    " \n",
    "# printing the last element\n",
    "print(\"Largest element is:\", amplitude_2009_No_Silence_Abs[-1])"
   ]
  },
  {
   "attachments": {},
   "cell_type": "markdown",
   "metadata": {},
   "source": [
    "So, with a mean amplitude difference of 0.03, the 2015 is around 3% louder than the 2009 version. "
   ]
  },
  {
   "attachments": {},
   "cell_type": "markdown",
   "metadata": {},
   "source": [
    "VI. Visualize the Data.\n",
    "\n",
    "1. First, let's visualize the amplitude levels of each track in through time."
   ]
  },
  {
   "cell_type": "code",
   "execution_count": 27,
   "metadata": {},
   "outputs": [
    {
     "data": {
      "image/png": "[encoded data removed]",
      "text/plain": [
       "<Figure size 640x480 with 1 Axes>"
      ]
     },
     "metadata": {},
     "output_type": "display_data"
    }
   ],
   "source": [
    "import matplotlib.pyplot as plt\n",
    "\n",
    "fig, ax = plt.subplots()\n",
    "ax.plot(amplitude_2009)\n",
    "\n",
    "ax.set_xlabel('Time')\n",
    "ax.set_ylabel('Amplitude')\n",
    "ax.set_title('Amplitude - 2009 Version')\n",
    "\n",
    "plt.show()"
   ]
  },
  {
   "cell_type": "code",
   "execution_count": 28,
   "metadata": {},
   "outputs": [
    {
     "data": {
      "image/png": "[encoded data removed]",
      "text/plain": [
       "<Figure size 640x480 with 1 Axes>"
      ]
     },
     "metadata": {},
     "output_type": "display_data"
    }
   ],
   "source": [
    "#Now the 2015 version:\n",
    "\n",
    "import matplotlib.pyplot as plt\n",
    "\n",
    "fig, ax = plt.subplots()\n",
    "ax.plot(amplitude_2015)\n",
    "\n",
    "ax.set_xlabel('Time')\n",
    "ax.set_ylabel('Amplitude')\n",
    "ax.set_title('Amplitude - 2015 Version')\n",
    "\n",
    "plt.show()"
   ]
  },
  {
   "attachments": {},
   "cell_type": "markdown",
   "metadata": {},
   "source": [
    "Wow, you can really see how 'compressed' the 2015 version is compared to the 2009 version. The 2015 version hits the same same (loud) level over\n",
    "and over and over again, while the 2009 version has a lot more nuance. \n",
    "\n",
    "2. Let's visualize the difference in mean amplitude value"
   ]
  },
  {
   "cell_type": "code",
   "execution_count": 32,
   "metadata": {},
   "outputs": [
    {
     "data": {
      "image/png": "[encoded data removed]",
      "text/plain": [
       "<Figure size 640x480 with 1 Axes>"
      ]
     },
     "metadata": {},
     "output_type": "display_data"
    }
   ],
   "source": [
    "import numpy as np\n",
    "import matplotlib.pyplot as plt\n",
    "\n",
    "# Create a bar chart with two bars\n",
    "plt.bar(['2009', '2015'], [np.mean(amplitude_2009_No_Silence_Abs), np.mean(amplitude_2015_No_Silence_Abs)])\n",
    "\n",
    "# Set the title and axis labels\n",
    "plt.title('Mean Amplitude')\n",
    "plt.xlabel('Version')\n",
    "plt.ylabel('Mean Amplitude')\n",
    "\n",
    "# Show the plot\n",
    "plt.show()"
   ]
  },
  {
   "attachments": {},
   "cell_type": "markdown",
   "metadata": {},
   "source": [
    "In conclusion, when we compare the amplitude of the 2009 and 2015 versions of \"Strawberry Fields Forever\", we can see that the newer version (2015) was made to be louder. We can see this through both the visualization of the amplitude over the course of the song an also through the comparison of the mean amplitude of each version. "
   ]
  },
  {
   "cell_type": "markdown",
   "metadata": {},
   "source": []
  }
 ],
 "metadata": {
  "kernelspec": {
   "display_name": "base",
   "language": "python",
   "name": "python3"
  },
  "language_info": {
   "codemirror_mode": {
    "name": "ipython",
    "version": 3
   },
   "file_extension": ".py",
   "mimetype": "text/x-python",
   "name": "python",
   "nbconvert_exporter": "python",
   "pygments_lexer": "ipython3",
   "version": "3.9.13"
  },
  "orig_nbformat": 4
 },
 "nbformat": 4,
 "nbformat_minor": 2
}
